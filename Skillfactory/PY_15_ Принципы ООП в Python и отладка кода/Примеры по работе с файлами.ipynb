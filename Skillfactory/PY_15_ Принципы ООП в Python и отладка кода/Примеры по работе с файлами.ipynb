{
 "cells": [
  {
   "cell_type": "markdown",
   "metadata": {},
   "source": [
    "### <center> Использование ООП при работе с файлами"
   ]
  },
  {
   "cell_type": "markdown",
   "metadata": {},
   "source": [
    "В этом юните мы с вами поговорим об основных принципах работы с файлами в языке Python — какие встроенные методы используются для открытия, закрытия, чтения, построчного чтения и так далее.\n",
    "\n",
    "На самом деле файлы, как и всё в Python, являются объектами класса. Причём этот класс встроен в Python. У файлов есть свои атрибуты и методы."
   ]
  },
  {
   "cell_type": "markdown",
   "metadata": {},
   "source": [
    "#### <center> Путь к файлу"
   ]
  },
  {
   "cell_type": "markdown",
   "metadata": {},
   "source": [
    "Путь (от англ. path) — набор символов, показывающий расположение файла или каталога в файловой системе."
   ]
  },
  {
   "cell_type": "markdown",
   "metadata": {},
   "source": [
    "В операционных системах UNIX разделительным знаком при записи пути является «/» (слеш), в Windows — «\\» (обратный слеш). Эти знаки служат для разделения названия каталогов, составляющих путь к файлу. Все вы видели, например, такой путь на ОС Windows: C:\\Program Files. Это и есть путь до папки Program Files.\n",
    "\n",
    "Существует два типа пути:\n",
    "\n",
    "абсолютный;\n",
    "\n",
    "относительный.\n",
    "\n",
    "Абсолютный путь всегда считается от «корня», той папки, откуда потом «вырастают» все остальные папки. Для Windows это диск С:, D: и т. д., для Unix это “/”. Абсолютный путь всегда уникальный."
   ]
  },
  {
   "cell_type": "markdown",
   "metadata": {},
   "source": [
    "Относительный путь — это путь по отношению к текущему рабочему каталогу пользователя."
   ]
  },
  {
   "cell_type": "markdown",
   "metadata": {},
   "source": [
    "Чтобы поработать с путями, есть модуль os. Функция os.chdir() позволяет нам изменить директорию, которую мы в данный момент используем. Если вам нужно знать, какой путь вы в данный момент используете, для этого нужно вызвать os.getcwd().\n",
    "\n",
    "#получить текущий путь  \n",
    "start_path = os.getcwd()    \n",
    "print(start_path) # /home/nbuser/library    \n",
    "\n",
    "Далее попробуем подняться на директорию выше:\n",
    "\n",
    "os.chdir(\"..\") # подняться на один уровень выше     \n",
    "os.getcwd() # '/home/nbuser'    \n",
    "\n",
    "Теперь вернемся в ту директорию, из которой стартовали. Изначально мы сохраняли её в переменной start_path. \n",
    "\n",
    "os.chdir(start_path)    \n",
    "os.getcwd() # '/home/nbuser/library'    "
   ]
  },
  {
   "cell_type": "code",
   "execution_count": 53,
   "metadata": {},
   "outputs": [
    {
     "name": "stdout",
     "output_type": "stream",
     "text": [
      "c:\\Users\\Admin\\Desktop\\IDE\\Skillfactory\\PY_15_ Принципы ООП в Python и отладка кода\n"
     ]
    }
   ],
   "source": [
    "#получить текущий путь\n",
    "import os\n",
    "  \n",
    "start_path = os.getcwd()    \n",
    "print(start_path)"
   ]
  },
  {
   "cell_type": "markdown",
   "metadata": {},
   "source": [
    "С помощью функции os.listdir() можно получить весь список файлов, находящихся в директории. Если не указать никаких аргументов, то будет взята текущая директория."
   ]
  },
  {
   "cell_type": "code",
   "execution_count": 54,
   "metadata": {},
   "outputs": [
    {
     "name": "stdout",
     "output_type": "stream",
     "text": [
      "['archive', 'test.txt', 'Практические примеры.ipynb', 'Примеры по работе с файлами.ipynb', 'Принципы ООП и отладка кода.ipynb']\n",
      "Файл отсутствует в данной директории\n"
     ]
    }
   ],
   "source": [
    "# список файлов и директорий в папке\n",
    "import os\n",
    "\n",
    "print(os.listdir()) # ['SnapchatLoader', 'FBLoader', 'tmp.py', '.gitignore', 'venv', '.git']\n",
    "\n",
    "if 'tmp.py' not in os.listdir():\n",
    "    print(\"Файл отсутствует в данной директории\")"
   ]
  },
  {
   "cell_type": "markdown",
   "metadata": {},
   "source": [
    "Для того чтобы склеивать пути с учётом особенностей ОС, следует использовать функцию os.path.join(). Это связано с тем, что в разных операционных системах могут быть разные разделители каталогов, например в ОС Windows этим разделителем является «\\», а в Linux — «/», как мы и говорили в начале юнита. Поэтому, чтобы поиск файла проходил гладко в обеих системах (ведь ваш скрипт могут запускать на любой системе в связи с кросс-платформенностью Python), лучше всё-таки использовать os.path.join()."
   ]
  },
  {
   "cell_type": "code",
   "execution_count": 55,
   "metadata": {},
   "outputs": [
    {
     "name": "stdout",
     "output_type": "stream",
     "text": [
      "c:\\Users\\Admin\\Desktop\\IDE\\Skillfactory\\PY_15_ Принципы ООП в Python и отладка кода\n",
      "c:\\Users\\Admin\\Desktop\\IDE\\Skillfactory\\PY_15_ Принципы ООП в Python и отладка кода\\test\n"
     ]
    }
   ],
   "source": [
    "# соединяет пути с учётом особенностей операционной системы\n",
    "import os\n",
    "\n",
    "print(start_path)\n",
    "print(os.path.join(start_path, 'test'))"
   ]
  },
  {
   "cell_type": "markdown",
   "metadata": {},
   "source": [
    "##### Задание 7.3"
   ]
  },
  {
   "cell_type": "markdown",
   "metadata": {},
   "source": [
    "Сделайте функцию, которая принимает от пользователя путь и выводит всю информацию о содержимом этой папки. Для реализации используйте функцию встроенного модуля os.walk(). Если путь не указан, то сравнение начинается с текущей директории."
   ]
  },
  {
   "cell_type": "code",
   "execution_count": 56,
   "metadata": {},
   "outputs": [
    {
     "name": "stdout",
     "output_type": "stream",
     "text": [
      "Текущая директория c:\\Users\\Admin\\Desktop\\IDE\\Skillfactory\\PY_15_ Принципы ООП в Python и отладка кода\n",
      "---\n",
      "Список папок ['archive']\n",
      "---\n",
      "Список файлов ['test.txt', 'Практические примеры.ipynb', 'Примеры по работе с файлами.ipynb', 'Принципы ООП и отладка кода.ipynb']\n",
      "---\n",
      "Все пути:\n",
      "Файл  c:\\Users\\Admin\\Desktop\\IDE\\Skillfactory\\PY_15_ Принципы ООП в Python и отладка кода\\test.txt\n",
      "Файл  c:\\Users\\Admin\\Desktop\\IDE\\Skillfactory\\PY_15_ Принципы ООП в Python и отладка кода\\Практические примеры.ipynb\n",
      "Файл  c:\\Users\\Admin\\Desktop\\IDE\\Skillfactory\\PY_15_ Принципы ООП в Python и отладка кода\\Примеры по работе с файлами.ipynb\n",
      "Файл  c:\\Users\\Admin\\Desktop\\IDE\\Skillfactory\\PY_15_ Принципы ООП в Python и отладка кода\\Принципы ООП и отладка кода.ipynb\n",
      "Папка  c:\\Users\\Admin\\Desktop\\IDE\\Skillfactory\\PY_15_ Принципы ООП в Python и отладка кода\\archive\n",
      "===\n",
      "Текущая директория c:\\Users\\Admin\\Desktop\\IDE\\Skillfactory\\PY_15_ Принципы ООП в Python и отладка кода\\archive\n",
      "---\n",
      "Папок нет\n",
      "---\n",
      "Список файлов ['24-08-31.pkl']\n",
      "---\n",
      "Файл  c:\\Users\\Admin\\Desktop\\IDE\\Skillfactory\\PY_15_ Принципы ООП в Python и отладка кода\\archive\\24-08-31.pkl\n",
      "===\n"
     ]
    }
   ],
   "source": [
    "import os\n",
    "\n",
    "def walk_desc(path=None):\n",
    "    start_path = path if path is not None else os.getcwd()\n",
    "\n",
    "    for root, dirs, files in os.walk(start_path):\n",
    "        print(\"Текущая директория\", root)\n",
    "        print(\"---\")\n",
    "\n",
    "        if dirs:\n",
    "            print(\"Список папок\", dirs)\n",
    "        else:\n",
    "            print(\"Папок нет\")\n",
    "        print(\"---\")\n",
    "\n",
    "        if files:\n",
    "            print(\"Список файлов\", files)\n",
    "        else:\n",
    "            print(\"Файлов нет\")\n",
    "        print(\"---\")\n",
    "\n",
    "        if files and dirs:\n",
    "            print(\"Все пути:\")\n",
    "        for f in files:\n",
    "            print(\"Файл \", os.path.join(root, f))\n",
    "        for d in dirs:\n",
    "            print(\"Папка \", os.path.join(root, d))\n",
    "        print(\"===\")\n",
    "\n",
    "walk_desc()"
   ]
  },
  {
   "cell_type": "markdown",
   "metadata": {},
   "source": [
    "**Импорт модуля os:**\n",
    "\n",
    "```\n",
    "import os\n",
    "```\n",
    "\n",
    "Импортирует модуль `os`, который предоставляет функции для взаимодействия с операционной системой, включая работу с файлами и каталогами.\n",
    "\n",
    "**Функция `walk_desc`:**\n",
    "\n",
    "```\n",
    "def walk_desc(path=None):\n",
    "```\n",
    "\n",
    "* Определяет функцию `walk_desc`, которая принимает один необязательный аргумент `path`.\n",
    "* Если `path` не указан, используется текущий рабочий каталог (`os.getcwd()`).\n",
    "\n",
    "**Начало обхода:**\n",
    "\n",
    "```\n",
    "start_path = path if path is not None else os.getcwd()\n",
    "```\n",
    "\n",
    "* Если `path` не равен `None`, то `start_path` получает значение `path`.\n",
    "* В противном случае `start_path` получает текущий рабочий каталог с помощью `os.getcwd()`.\n",
    "\n",
    "**Обход каталогов и файлов с помощью `os.walk`:**\n",
    "\n",
    "```\n",
    "for root, dirs, files in os.walk(start_path):\n",
    "```\n",
    "\n",
    "* Входит в цикл, который обходит каталоги и файлы в `start_path` и его подкаталогах.\n",
    "* Каждая итерация цикла возвращает корневой каталог (`root`), список подкаталогов (`dirs`) и список файлов (`files`).\n",
    "\n",
    "**Вывод информации о каждом каталоге:**\n",
    "\n",
    "```\n",
    "print(\"Текущая директория\", root)\n",
    "print(\"---\")\n",
    "```\n",
    "\n",
    "* Выводит текущий корневой каталог.\n",
    "* Выводит линию для отделения информации о каждом каталоге.\n",
    "\n",
    "**Вывод списка подкаталогов или отсутствие подкаталогов:**\n",
    "\n",
    "```\n",
    "if dirs:\n",
    "    print(\"Список папок\", dirs)\n",
    "else:\n",
    "    print(\"Папок нет\")\n",
    "```\n",
    "\n",
    "* Если есть подкаталоги, выводит их список.\n",
    "* В противном случае выводит сообщение об отсутствии подкаталогов.\n",
    "\n",
    "**Вывод списка файлов или отсутствие файлов:**\n",
    "\n",
    "```\n",
    "if files:\n",
    "    print(\"Список файлов\", files)\n",
    "else:\n",
    "    print(\"Файлов нет\")\n",
    "```\n",
    "\n",
    "* Если есть файлы, выводит их список.\n",
    "* В противном случае выводит сообщение об отсутствии файлов.\n",
    "\n",
    "**Вывод всех путей к файлам и каталогам:**\n",
    "\n",
    "```\n",
    "if files and dirs:\n",
    "    print(\"Все пути:\")\n",
    "    for f in files:\n",
    "        print(\"Файл \", os.path.join(root, f))\n",
    "    for d in dirs:\n",
    "        print(\"Папка \", os.path.join(root, d))\n",
    "    print(\"===\")\n",
    "```\n",
    "\n",
    "* Если есть и файлы, и каталоги, выводит заголовок \"Все пути\".\n",
    "* Для каждого файла выводит полный путь с помощью `os.path.join(root, f)`.\n",
    "* Для каждого каталога выводит полный путь с помощью `os.path.join(root, d)`.\n",
    "* Выводит линию для отделения каждого списка.\n",
    "\n",
    "**Вызов функции:**\n",
    "\n",
    "```\n",
    "walk_desc()\n",
    "```\n",
    "\n",
    "* Вызывает функцию `walk_desc`, которая обходит текущий рабочий каталог по умолчанию.\n"
   ]
  },
  {
   "cell_type": "markdown",
   "metadata": {},
   "source": [
    "#### <center> Работа с файлами"
   ]
  },
  {
   "cell_type": "markdown",
   "metadata": {},
   "source": [
    "Python «из коробки» располагает достаточно широким набором инструментов для работы с файлами. Для того чтобы начать работать с файлом, надо его открыть с помощью команды специальной функции open."
   ]
  },
  {
   "cell_type": "markdown",
   "metadata": {},
   "source": [
    "f = open('path/to/file', 'filemode', encoding='utf8')"
   ]
  },
  {
   "cell_type": "markdown",
   "metadata": {},
   "source": [
    "Результатом этой операции будет файл, в котором указатель текущей позиции поставлен на начало или конец файла.\n",
    "Перед тем, как мы начнём разбирать аргументы, хотелось бы заранее отметить, что указателем называется скорее метка, которая указывает на определённое место в файле. Указателей в классическом понимании программиста, как, например, в C или C++ в Python нет!"
   ]
  },
  {
   "cell_type": "markdown",
   "metadata": {},
   "source": [
    "Давайте по порядку разберём все аргументы:  \n",
    "\n",
    "1.path/to/file — путь к файлу может быть относительным или абсолютным. Можно указывать в Unix-стиле (path/to/file) или в Windows-стиле (path\\to\\file).  \n",
    "  \n",
    "2.filemode — режим, в котором файл нужно открывать.   \n",
    "\n",
    "Записывается в виде строки, может принимать следующие значения:     \n",
    "r — открыть на чтение (по умолчанию);   \n",
    "w — перезаписать и открыть на запись (если файла нет, то он создастся);  \n",
    "x — создать и открыть на запись (если уже есть — исключение);   \n",
    "a — открыть на дозапись (указатель будет поставлен в конец);    \n",
    "t — открыть в текстовом виде (по умолчанию);    \n",
    "b — открыть в бинарном виде.\n",
    "\n",
    "3.encoding — указание, в какой кодировке файл записан (utf8, cp1251 и т. д.) По умолчанию стоит utf-8. При этом можно записывать кодировку как через дефис, так и без: utf-8 или utf8.    "
   ]
  },
  {
   "cell_type": "markdown",
   "metadata": {},
   "source": [
    "Открытие файла на запись является блокирующей операцией, то есть она останавливает работу нашей программы до того, пока файл не откроется."
   ]
  },
  {
   "cell_type": "markdown",
   "metadata": {},
   "source": [
    "Теперь давайте поговорим про то, как записывать какую-либо информацию в файл.   \n",
    "\n",
    "При открытии файла внутри него ставится указатель текущей позиции для чтения. При открытии в режиме чтения ('r') или записи ('w') указатель ставится на начало, в режиме 'a' (добавление новых записей в конец файла) — в конец.    \n",
    "\n",
    "Откроем файл на запись и с помощью метода write запишем в него строку. В качестве результата метод write возвращает количество записанных символов. "
   ]
  },
  {
   "cell_type": "code",
   "execution_count": 57,
   "metadata": {},
   "outputs": [
    {
     "data": {
      "text/plain": [
       "21"
      ]
     },
     "execution_count": 57,
     "metadata": {},
     "output_type": "execute_result"
    }
   ],
   "source": [
    "f = open('test.txt', 'w', encoding='utf8')\n",
    "\n",
    "# Запишем в файл строку\n",
    "f.write(\"This is a test string\\n\")\n",
    "f.write(\"This is a new string\\n\")"
   ]
  },
  {
   "cell_type": "markdown",
   "metadata": {},
   "source": [
    "После вызова команды write ваши данные не сразу попадут и сохранятся в файл. Связано это с особенностями внутренней работы операционных систем. Если для вас критично своевременное попадание информации на жесткий диск компьютера, то после записи вызывайте f.flush() или закрывайте файл. Закрыть файл можно с помощью метода close()."
   ]
  },
  {
   "cell_type": "code",
   "execution_count": 58,
   "metadata": {},
   "outputs": [],
   "source": [
    "# обязательно нужно закрыть файл иначе он будет заблокирован ОС\n",
    "f.close()"
   ]
  },
  {
   "cell_type": "markdown",
   "metadata": {},
   "source": [
    "Теперь давайте посмотрим, как читать данные из файла.   \n",
    "Откроем файл для чтения, в который только что записали две строки:"
   ]
  },
  {
   "cell_type": "code",
   "execution_count": 59,
   "metadata": {},
   "outputs": [],
   "source": [
    "f = open('test.txt', 'r', encoding='utf8')"
   ]
  },
  {
   "cell_type": "markdown",
   "metadata": {},
   "source": [
    "Вот его содержимое на жестком диске:\n",
    "\n",
    "This is a test string   \n",
    "This is a new string"
   ]
  },
  {
   "cell_type": "markdown",
   "metadata": {},
   "source": [
    "После того, как файл открыт для чтения, мы можем читать из него данные.\n",
    "\n",
    "f.read(n) — операция, читающая с текущего места n символов, если файл открыт в t режиме, или n байт, если файл открыт в b режиме, и возвращающая прочитанную информацию."
   ]
  },
  {
   "cell_type": "code",
   "execution_count": 60,
   "metadata": {},
   "outputs": [
    {
     "name": "stdout",
     "output_type": "stream",
     "text": [
      "This is a test string\n"
     ]
    }
   ],
   "source": [
    "print(f.read(21)) # This is a test string"
   ]
  },
  {
   "cell_type": "markdown",
   "metadata": {},
   "source": [
    "осле прочтения указатель на содержимое остается на той позиции, где чтение закончилось. Если n не указать, будет прочитано «от печки», то есть от текущего места указателя и до самого конца файла."
   ]
  },
  {
   "cell_type": "code",
   "execution_count": 61,
   "metadata": {},
   "outputs": [
    {
     "data": {
      "text/plain": [
       "'\\nThis is a new string\\n'"
      ]
     },
     "execution_count": 61,
     "metadata": {},
     "output_type": "execute_result"
    }
   ],
   "source": [
    "# считали остаток файла\n",
    "f.read() # test string\\nThis is a new string\\n"
   ]
  },
  {
   "cell_type": "markdown",
   "metadata": {},
   "source": [
    "После работы обязательно закрываем файл:"
   ]
  },
  {
   "cell_type": "code",
   "execution_count": 62,
   "metadata": {},
   "outputs": [],
   "source": [
    "f.close()"
   ]
  },
  {
   "cell_type": "markdown",
   "metadata": {},
   "source": [
    "#### <center> Чтение и запись построчно"
   ]
  },
  {
   "cell_type": "markdown",
   "metadata": {},
   "source": [
    "Зачастую с файлами удобнее работать построчно, поэтому для этого есть отдельные методы: \n",
    "\n",
    "writelines — записывает список строк в файл;    \n",
    "readline — считывает из файла одну строку и возвращает её;  \n",
    "readlines — считывает из файла все строки в список и возвращает их. \n",
    "Метод f.writelines(sequence) не будет сам за вас дописывать символ конца строки ('\\n'), поэтому при необходимости его нужно прописать вручную."
   ]
  },
  {
   "cell_type": "code",
   "execution_count": 63,
   "metadata": {},
   "outputs": [],
   "source": [
    "f = open('test.txt', 'a', encoding='utf8') # открываем файл на дозапись\n",
    "\n",
    "sequence = [\"other string\\n\", \"123\\n\", \"test test\\n\"]\n",
    "f.writelines(sequence) # берет строки из sequence и записывает в файл (без переносов)\n",
    "\n",
    "f.close()"
   ]
  },
  {
   "cell_type": "markdown",
   "metadata": {},
   "source": [
    "Попробуем теперь построчно считать файл с помощью readlines:"
   ]
  },
  {
   "cell_type": "code",
   "execution_count": 64,
   "metadata": {},
   "outputs": [
    {
     "name": "stdout",
     "output_type": "stream",
     "text": [
      "['This is a test string\\n', 'This is a new string\\n', 'other string\\n', '123\\n', 'test test\\n']\n"
     ]
    }
   ],
   "source": [
    "f = open('test.txt', 'r', encoding='utf8')\n",
    "\n",
    "print(f.readlines()) # считывает все строки в список и возвращает список\n",
    "\n",
    "f.close()"
   ]
  },
  {
   "cell_type": "markdown",
   "metadata": {},
   "source": [
    "Метод f.readline() возвращает строку (символы от текущей позиции до символа переноса строки \\n, который остаётся в конце строки и опускается только в последней строке файла, если файл не заканчивается новой строкой):"
   ]
  },
  {
   "cell_type": "code",
   "execution_count": 67,
   "metadata": {},
   "outputs": [
    {
     "name": "stdout",
     "output_type": "stream",
     "text": [
      "This is a test string\n",
      "\n",
      "This\n",
      " is a new string\n",
      "\n"
     ]
    }
   ],
   "source": [
    "f = open('test.txt', 'r', encoding='utf8')\n",
    "\n",
    "print(f.readline()) # This is a test string\n",
    "print(f.read(4)) # This\n",
    "print(f.readline()) # is a new string\n",
    "\n",
    "f.close()"
   ]
  }
 ],
 "metadata": {
  "kernelspec": {
   "display_name": "Python 3",
   "language": "python",
   "name": "python3"
  },
  "language_info": {
   "codemirror_mode": {
    "name": "ipython",
    "version": 3
   },
   "file_extension": ".py",
   "mimetype": "text/x-python",
   "name": "python",
   "nbconvert_exporter": "python",
   "pygments_lexer": "ipython3",
   "version": "3.9.10"
  }
 },
 "nbformat": 4,
 "nbformat_minor": 2
}
