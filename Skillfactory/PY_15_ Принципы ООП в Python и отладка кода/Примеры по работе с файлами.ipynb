{
 "cells": [
  {
   "cell_type": "markdown",
   "metadata": {},
   "source": [
    "### <center> Использование ООП при работе с файлами"
   ]
  },
  {
   "cell_type": "markdown",
   "metadata": {},
   "source": [
    "В этом юните мы с вами поговорим об основных принципах работы с файлами в языке Python — какие встроенные методы используются для открытия, закрытия, чтения, построчного чтения и так далее.\n",
    "\n",
    "На самом деле файлы, как и всё в Python, являются объектами класса. Причём этот класс встроен в Python. У файлов есть свои атрибуты и методы."
   ]
  },
  {
   "cell_type": "markdown",
   "metadata": {},
   "source": [
    "#### <center> Путь к файлу"
   ]
  },
  {
   "cell_type": "markdown",
   "metadata": {},
   "source": [
    "Путь (от англ. path) — набор символов, показывающий расположение файла или каталога в файловой системе."
   ]
  },
  {
   "cell_type": "markdown",
   "metadata": {},
   "source": [
    "В операционных системах UNIX разделительным знаком при записи пути является «/» (слеш), в Windows — «\\» (обратный слеш). Эти знаки служат для разделения названия каталогов, составляющих путь к файлу. Все вы видели, например, такой путь на ОС Windows: C:\\Program Files. Это и есть путь до папки Program Files.\n",
    "\n",
    "Существует два типа пути:\n",
    "\n",
    "абсолютный;\n",
    "\n",
    "относительный.\n",
    "\n",
    "Абсолютный путь всегда считается от «корня», той папки, откуда потом «вырастают» все остальные папки. Для Windows это диск С:, D: и т. д., для Unix это “/”. Абсолютный путь всегда уникальный."
   ]
  },
  {
   "cell_type": "markdown",
   "metadata": {},
   "source": [
    "Относительный путь — это путь по отношению к текущему рабочему каталогу пользователя."
   ]
  },
  {
   "cell_type": "markdown",
   "metadata": {},
   "source": [
    "Чтобы поработать с путями, есть модуль os. Функция os.chdir() позволяет нам изменить директорию, которую мы в данный момент используем. Если вам нужно знать, какой путь вы в данный момент используете, для этого нужно вызвать os.getcwd().\n",
    "\n",
    "#получить текущий путь  \n",
    "start_path = os.getcwd()    \n",
    "print(start_path) # /home/nbuser/library    \n",
    "\n",
    "Далее попробуем подняться на директорию выше:\n",
    "\n",
    "os.chdir(\"..\") # подняться на один уровень выше     \n",
    "os.getcwd() # '/home/nbuser'    \n",
    "\n",
    "Теперь вернемся в ту директорию, из которой стартовали. Изначально мы сохраняли её в переменной start_path. \n",
    "\n",
    "os.chdir(start_path)    \n",
    "os.getcwd() # '/home/nbuser/library'    "
   ]
  },
  {
   "cell_type": "code",
   "execution_count": 2,
   "metadata": {},
   "outputs": [
    {
     "name": "stdout",
     "output_type": "stream",
     "text": [
      "c:\\Users\\Admin\\Desktop\\IDE\\Skillfactory\\PY_15_ Принципы ООП в Python и отладка кода\n"
     ]
    }
   ],
   "source": [
    "#получить текущий путь\n",
    "import os\n",
    "  \n",
    "start_path = os.getcwd()    \n",
    "print(start_path)"
   ]
  },
  {
   "cell_type": "markdown",
   "metadata": {},
   "source": [
    "С помощью функции os.listdir() можно получить весь список файлов, находящихся в директории. Если не указать никаких аргументов, то будет взята текущая директория."
   ]
  },
  {
   "cell_type": "code",
   "execution_count": 1,
   "metadata": {},
   "outputs": [
    {
     "name": "stdout",
     "output_type": "stream",
     "text": [
      "['archive', 'Практические примеры.ipynb', 'Примеры по работе с файлами.ipynb', 'Принципы ООП и отладка кода.ipynb']\n",
      "Файл отсутствует в данной директории\n"
     ]
    }
   ],
   "source": [
    "# список файлов и директорий в папке\n",
    "import os\n",
    "\n",
    "print(os.listdir()) # ['SnapchatLoader', 'FBLoader', 'tmp.py', '.gitignore', 'venv', '.git']\n",
    "\n",
    "if 'tmp.py' not in os.listdir():\n",
    "    print(\"Файл отсутствует в данной директории\")"
   ]
  },
  {
   "cell_type": "markdown",
   "metadata": {},
   "source": [
    "Для того чтобы склеивать пути с учётом особенностей ОС, следует использовать функцию os.path.join(). Это связано с тем, что в разных операционных системах могут быть разные разделители каталогов, например в ОС Windows этим разделителем является «\\», а в Linux — «/», как мы и говорили в начале юнита. Поэтому, чтобы поиск файла проходил гладко в обеих системах (ведь ваш скрипт могут запускать на любой системе в связи с кросс-платформенностью Python), лучше всё-таки использовать os.path.join()."
   ]
  },
  {
   "cell_type": "code",
   "execution_count": 4,
   "metadata": {},
   "outputs": [
    {
     "name": "stdout",
     "output_type": "stream",
     "text": [
      "c:\\Users\\Admin\\Desktop\\IDE\\Skillfactory\\PY_15_ Принципы ООП в Python и отладка кода\n",
      "c:\\Users\\Admin\\Desktop\\IDE\\Skillfactory\\PY_15_ Принципы ООП в Python и отладка кода\\test\n"
     ]
    }
   ],
   "source": [
    "# соединяет пути с учётом особенностей операционной системы\n",
    "import os\n",
    "\n",
    "print(start_path)\n",
    "print(os.path.join(start_path, 'test'))"
   ]
  },
  {
   "cell_type": "markdown",
   "metadata": {},
   "source": [
    "##### Задание 7.3"
   ]
  },
  {
   "cell_type": "markdown",
   "metadata": {},
   "source": [
    "Сделайте функцию, которая принимает от пользователя путь и выводит всю информацию о содержимом этой папки. Для реализации используйте функцию встроенного модуля os.walk(). Если путь не указан, то сравнение начинается с текущей директории."
   ]
  },
  {
   "cell_type": "code",
   "execution_count": 5,
   "metadata": {},
   "outputs": [
    {
     "name": "stdout",
     "output_type": "stream",
     "text": [
      "Текущая директория c:\\Users\\Admin\\Desktop\\IDE\\Skillfactory\\PY_15_ Принципы ООП в Python и отладка кода\n",
      "---\n",
      "Список папок ['archive']\n",
      "---\n",
      "Список файлов ['Практические примеры.ipynb', 'Примеры по работе с файлами.ipynb', 'Принципы ООП и отладка кода.ipynb']\n",
      "---\n",
      "Все пути:\n",
      "Файл  c:\\Users\\Admin\\Desktop\\IDE\\Skillfactory\\PY_15_ Принципы ООП в Python и отладка кода\\Практические примеры.ipynb\n",
      "Файл  c:\\Users\\Admin\\Desktop\\IDE\\Skillfactory\\PY_15_ Принципы ООП в Python и отладка кода\\Примеры по работе с файлами.ipynb\n",
      "Файл  c:\\Users\\Admin\\Desktop\\IDE\\Skillfactory\\PY_15_ Принципы ООП в Python и отладка кода\\Принципы ООП и отладка кода.ipynb\n",
      "Папка  c:\\Users\\Admin\\Desktop\\IDE\\Skillfactory\\PY_15_ Принципы ООП в Python и отладка кода\\archive\n",
      "===\n",
      "Текущая директория c:\\Users\\Admin\\Desktop\\IDE\\Skillfactory\\PY_15_ Принципы ООП в Python и отладка кода\\archive\n",
      "---\n",
      "Папок нет\n",
      "---\n",
      "Список файлов ['24-08-31.pkl']\n",
      "---\n",
      "Файл  c:\\Users\\Admin\\Desktop\\IDE\\Skillfactory\\PY_15_ Принципы ООП в Python и отладка кода\\archive\\24-08-31.pkl\n",
      "===\n"
     ]
    }
   ],
   "source": [
    "import os\n",
    "\n",
    "def walk_desc(path=None):\n",
    "    start_path = path if path is not None else os.getcwd()\n",
    "\n",
    "    for root, dirs, files in os.walk(start_path):\n",
    "        print(\"Текущая директория\", root)\n",
    "        print(\"---\")\n",
    "\n",
    "        if dirs:\n",
    "            print(\"Список папок\", dirs)\n",
    "        else:\n",
    "            print(\"Папок нет\")\n",
    "        print(\"---\")\n",
    "\n",
    "        if files:\n",
    "            print(\"Список файлов\", files)\n",
    "        else:\n",
    "            print(\"Файлов нет\")\n",
    "        print(\"---\")\n",
    "\n",
    "        if files and dirs:\n",
    "            print(\"Все пути:\")\n",
    "        for f in files:\n",
    "            print(\"Файл \", os.path.join(root, f))\n",
    "        for d in dirs:\n",
    "            print(\"Папка \", os.path.join(root, d))\n",
    "        print(\"===\")\n",
    "\n",
    "walk_desc()"
   ]
  },
  {
   "cell_type": "markdown",
   "metadata": {},
   "source": [
    "**Импорт модуля os:**\n",
    "\n",
    "```\n",
    "import os\n",
    "```\n",
    "\n",
    "Импортирует модуль `os`, который предоставляет функции для взаимодействия с операционной системой, включая работу с файлами и каталогами.\n",
    "\n",
    "**Функция `walk_desc`:**\n",
    "\n",
    "```\n",
    "def walk_desc(path=None):\n",
    "```\n",
    "\n",
    "* Определяет функцию `walk_desc`, которая принимает один необязательный аргумент `path`.\n",
    "* Если `path` не указан, используется текущий рабочий каталог (`os.getcwd()`).\n",
    "\n",
    "**Начало обхода:**\n",
    "\n",
    "```\n",
    "start_path = path if path is not None else os.getcwd()\n",
    "```\n",
    "\n",
    "* Если `path` не равен `None`, то `start_path` получает значение `path`.\n",
    "* В противном случае `start_path` получает текущий рабочий каталог с помощью `os.getcwd()`.\n",
    "\n",
    "**Обход каталогов и файлов с помощью `os.walk`:**\n",
    "\n",
    "```\n",
    "for root, dirs, files in os.walk(start_path):\n",
    "```\n",
    "\n",
    "* Входит в цикл, который обходит каталоги и файлы в `start_path` и его подкаталогах.\n",
    "* Каждая итерация цикла возвращает корневой каталог (`root`), список подкаталогов (`dirs`) и список файлов (`files`).\n",
    "\n",
    "**Вывод информации о каждом каталоге:**\n",
    "\n",
    "```\n",
    "print(\"Текущая директория\", root)\n",
    "print(\"---\")\n",
    "```\n",
    "\n",
    "* Выводит текущий корневой каталог.\n",
    "* Выводит линию для отделения информации о каждом каталоге.\n",
    "\n",
    "**Вывод списка подкаталогов или отсутствие подкаталогов:**\n",
    "\n",
    "```\n",
    "if dirs:\n",
    "    print(\"Список папок\", dirs)\n",
    "else:\n",
    "    print(\"Папок нет\")\n",
    "```\n",
    "\n",
    "* Если есть подкаталоги, выводит их список.\n",
    "* В противном случае выводит сообщение об отсутствии подкаталогов.\n",
    "\n",
    "**Вывод списка файлов или отсутствие файлов:**\n",
    "\n",
    "```\n",
    "if files:\n",
    "    print(\"Список файлов\", files)\n",
    "else:\n",
    "    print(\"Файлов нет\")\n",
    "```\n",
    "\n",
    "* Если есть файлы, выводит их список.\n",
    "* В противном случае выводит сообщение об отсутствии файлов.\n",
    "\n",
    "**Вывод всех путей к файлам и каталогам:**\n",
    "\n",
    "```\n",
    "if files and dirs:\n",
    "    print(\"Все пути:\")\n",
    "    for f in files:\n",
    "        print(\"Файл \", os.path.join(root, f))\n",
    "    for d in dirs:\n",
    "        print(\"Папка \", os.path.join(root, d))\n",
    "    print(\"===\")\n",
    "```\n",
    "\n",
    "* Если есть и файлы, и каталоги, выводит заголовок \"Все пути\".\n",
    "* Для каждого файла выводит полный путь с помощью `os.path.join(root, f)`.\n",
    "* Для каждого каталога выводит полный путь с помощью `os.path.join(root, d)`.\n",
    "* Выводит линию для отделения каждого списка.\n",
    "\n",
    "**Вызов функции:**\n",
    "\n",
    "```\n",
    "walk_desc()\n",
    "```\n",
    "\n",
    "* Вызывает функцию `walk_desc`, которая обходит текущий рабочий каталог по умолчанию.\n"
   ]
  }
 ],
 "metadata": {
  "kernelspec": {
   "display_name": "Python 3",
   "language": "python",
   "name": "python3"
  },
  "language_info": {
   "codemirror_mode": {
    "name": "ipython",
    "version": 3
   },
   "file_extension": ".py",
   "mimetype": "text/x-python",
   "name": "python",
   "nbconvert_exporter": "python",
   "pygments_lexer": "ipython3",
   "version": "3.9.10"
  }
 },
 "nbformat": 4,
 "nbformat_minor": 2
}
