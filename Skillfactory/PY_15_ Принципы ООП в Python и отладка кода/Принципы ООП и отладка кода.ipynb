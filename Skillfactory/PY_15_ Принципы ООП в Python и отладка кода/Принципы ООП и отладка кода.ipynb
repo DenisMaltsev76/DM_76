{
 "cells": [
  {
   "cell_type": "markdown",
   "metadata": {},
   "source": [
    "### <center> Принципы ООП в Python и отладка кода"
   ]
  },
  {
   "cell_type": "markdown",
   "metadata": {},
   "source": [
    "Идеология объектно-ориентированного программирования (ООП) разрабатывалась как попытка связать поведение определённой сущности (объекта) с тем, к какому классу она принадлежит. Причина задумки такого подхода в том, что нам проще воспринимать окружающий мир как объекты, которые поддаются определённой классификации (взять хотя бы разделение на живую и неживую природу)."
   ]
  },
  {
   "cell_type": "markdown",
   "metadata": {},
   "source": [
    "Основу ООП составляют два понятия — классы и объекты.\n",
    "\n",
    "Когда мы говорим о классе, мы имеем в виду то, какими свойствами и поведением будет обладать объект (например, ходить на двух ногах, говорить).\n",
    "\n",
    "А объект — это экземпляр с собственным состоянием этих свойств (то, что будет отличать одного человека от другого), любой предмет, существо, явление. Иными словами, это всё, что называется именем существительным, о чём можно сказать «это что-то» или «это кто-то»."
   ]
  },
  {
   "cell_type": "markdown",
   "metadata": {},
   "source": [
    "##### <center> Объекты из классов"
   ]
  },
  {
   "cell_type": "code",
   "execution_count": 1,
   "metadata": {},
   "outputs": [
    {
     "name": "stdout",
     "output_type": "stream",
     "text": [
      "False\n"
     ]
    }
   ],
   "source": [
    " # Используем ключевое слово class, за которым идёт название класса, в примере это SalesReport  \n",
    "class SalesReport():  \n",
    "    pass\n",
    "# создаём объект по классу  \n",
    "report = SalesReport()  \n",
    "  \n",
    "# мы можем создавать множество объектов по одному классу  \n",
    "report_2 = SalesReport()  \n",
    "  \n",
    "# Это будут разные объекты.   \n",
    "print(report == report_2) "
   ]
  },
  {
   "cell_type": "markdown",
   "metadata": {},
   "source": [
    "Ключевое слово `pass` в данном коде используется как заглушка, когда определение класса не содержит никаких методов или атрибутов. Оно указывает интерпретатору Python, что класс определен, но в данный момент не имеет никакого содержимого.\n",
    "\n",
    "В этом примере `pass` используется в качестве заполнителя для определения класса, который пока пуст. Это позволяет вам создать объект класса, даже если у вас еще нет реализованных для него методов или атрибутов. Это может быть полезно при проектировании иерархии классов, когда вы хотите определить базовый класс с общим поведением, которое затем может быть переопределено в производных классах."
   ]
  },
  {
   "cell_type": "markdown",
   "metadata": {},
   "source": [
    "##### <center> Атрибуты и методы"
   ]
  },
  {
   "cell_type": "markdown",
   "metadata": {},
   "source": [
    "Мы создали объект по пустому классу. Давайте добавим ему данные. Сделаем класс для отчётов по продажам SalesReport. Пусть у нас в компании есть менеджеры по продажам, которые заключают сделки, и мы хотим посчитать для них метрики общего объёма продаж."
   ]
  },
  {
   "cell_type": "code",
   "execution_count": 2,
   "metadata": {},
   "outputs": [
    {
     "name": "stdout",
     "output_type": "stream",
     "text": [
      "Total amount: 10\n",
      "Total amount: 20\n"
     ]
    }
   ],
   "source": [
    "# По-прежнему пока создаём пустой класс  \n",
    "class SalesReport():  \n",
    "    pass  \n",
    "  \n",
    "# Создаём первый отчёт по продажам   \n",
    "report = SalesReport()  \n",
    "  \n",
    "# Мы добавим новый атрибут объекту.  \n",
    "# Для этого через точку напишем имя атрибута и дальше как с обычной переменной  \n",
    "report.amount = 10  \n",
    "  \n",
    "# То же самое делаем для второго отчёта.  \n",
    "report_2 = SalesReport()  \n",
    "report_2.amount = 20  \n",
    "  \n",
    "# Создадим вспомогательную функцию, она будет печатать общую сумму из отчёта  \n",
    "def print_report(report):  \n",
    "    print(\"Total amount:\", report.amount)  \n",
    "      \n",
    "print_report(report) # => Total amount: 10  \n",
    "print_report(report_2) # => Total amount: 20 "
   ]
  },
  {
   "cell_type": "markdown",
   "metadata": {},
   "source": [
    "Для разных отчётов вывелись разные значения, хотя объекты создавались из одного класса.\n",
    "\n",
    " Функция print_report делает операцию над отчётом. Так как классы увязывают данные и действия над ними, положим print_report внутрь класса."
   ]
  },
  {
   "cell_type": "code",
   "execution_count": 3,
   "metadata": {},
   "outputs": [
    {
     "name": "stdout",
     "output_type": "stream",
     "text": [
      "Total amount: 10\n",
      "Total amount: 20\n"
     ]
    }
   ],
   "source": [
    " class SalesReport():  \n",
    "    # Наш новый метод внутри класса.  \n",
    "    # Мы определяем его похожим образом с обычными функциями,  \n",
    "    #   но только помещаем внутрь класса и первым аргументом передаём self  \n",
    "    def print_report(self):  \n",
    "        print(\"Total amount:\", self.amount)  \n",
    "          \n",
    "          \n",
    "# Дальше мы применяем report так же, как и в примере выше   \n",
    "report = SalesReport()  \n",
    "report.amount = 10  \n",
    "  \n",
    "report_2 = SalesReport()  \n",
    "report_2.amount = 20  \n",
    "  \n",
    "# Используем наши новые методы  \n",
    "report.print_report() # => Total amount: 10  \n",
    "report_2.print_report() # => Total amount: 20 "
   ]
  },
  {
   "cell_type": "markdown",
   "metadata": {},
   "source": [
    "Мы определили метод внутри класса, и он стал доступен у всех экземпляров этого класса. Методы в целом похожи на обычные функции, но их ключевое отличие — доступ к самому объекту. \n",
    "\n",
    "`self` - это специальный атрибут, который ссылается на экземпляр класса, в котором вызывается метод.\n",
    "* Когда вы вызываете метод объекта (например, `sales_report.print_report()`), интерпретатор Python автоматически передает этот объект методу в качестве первого аргумента, который затем назначается переменной `self`.\n",
    "* Это позволяет методам класса обращаться к атрибутам и методам экземпляра, называемого объектом."
   ]
  },
  {
   "cell_type": "markdown",
   "metadata": {},
   "source": [
    "Давайте для примера определим ещё пару методов:"
   ]
  },
  {
   "cell_type": "code",
   "execution_count": 4,
   "metadata": {},
   "outputs": [
    {
     "name": "stdout",
     "output_type": "stream",
     "text": [
      "Total sales: 40000\n"
     ]
    }
   ],
   "source": [
    "class SalesReport():  \n",
    "    # Позволим добавлять много разных сделок   \n",
    "    def add_deal(self, amount):   \n",
    "        # На первой сделке создадим список для хранения всех сделок   \n",
    "        if not hasattr(self, 'deals'):  \n",
    "            self.deals = []  \n",
    "        # Добавим текущую сделку  \n",
    "        self.deals.append(amount)  \n",
    "          \n",
    "    # Посчитаем сумму всех сделок      \n",
    "    def total_amount(self):  \n",
    "        return sum(self.deals)  \n",
    "      \n",
    "    def print_report(self):  \n",
    "        print(\"Total sales:\", self.total_amount())  \n",
    "          \n",
    "# Используем наши новые возможности  \n",
    "# Добавим две сделки и распечатаем отчёт  \n",
    "report = SalesReport()  \n",
    "report.add_deal(10_000)  \n",
    "report.add_deal(30_000)  \n",
    "report.print_report() # => Total sales: 40000 "
   ]
  },
  {
   "cell_type": "markdown",
   "metadata": {},
   "source": [
    "Метод `add_deal(self, amount)`:**\n",
    "   * Принимает значение `amount` для суммы сделки.\n",
    "   * Проверяет, существует ли атрибут `deals` у экземпляра класса. Если нет, он создает пустой список.\n",
    "   * Добавляет `amount` в список `deals`.\n",
    "\n",
    "   Оператор hasattr возвращает флаг, указывающий на то, содержит ли объект указанный атрибут.\n",
    "hasattr(obj, name) -> bool\n",
    " obj : object Объект, существование атрибута в котором нужно проверить.\n",
    "\n",
    " name : str Имя атрибута, существование которого требуется проверить.\n",
    "Возвращает True, если атрибут существует, иначе — False.\n",
    "\n",
    "Метод `total_amount(self)`:**\n",
    "   * Итерируется по списку `deals` и суммирует все значения сделок.\n",
    "   * Возвращает общую сумму.\n",
    "\n",
    "Метод `print_report(self)`:**\n",
    "   * Печатает строку с общим количеством продаж, полученным из метода `total_amount()`.\n"
   ]
  },
  {
   "cell_type": "markdown",
   "metadata": {},
   "source": [
    "Атрибут deals, определённый в одном методе, становится доступен сразу во всех методах класса. Через self становятся доступны и остальные методы, например print_report использует метод total_amount. Это позволяет компактно упаковывать логику внутри класса: внешнее использование становится гораздо лаконичнее."
   ]
  },
  {
   "cell_type": "markdown",
   "metadata": {},
   "source": [
    "##### Задание 4.1"
   ]
  },
  {
   "cell_type": "markdown",
   "metadata": {},
   "source": [
    "Допишите определение класса DepartmentReport, который выводит отчёт по отделам компании. У него должны быть определены:\n",
    "\n",
    "свойство revenues — список, где мы храним значения выручки отделов;     \n",
    "метод add_revenue(), который добавляет выручку одного отдела в список revenues. Если списка revenues еще не существует, метод должен его создавать (проверку наличия атрибута можно выполнить с помощью встроенной функции hasattr());      \n",
    "метод average_revenue(), который возвращает среднюю выручку по всем отделам (считает среднее по списку revenues).       "
   ]
  },
  {
   "cell_type": "code",
   "execution_count": 5,
   "metadata": {},
   "outputs": [
    {
     "name": "stdout",
     "output_type": "stream",
     "text": [
      "[1000000, 400000]\n",
      "700000.0\n"
     ]
    }
   ],
   "source": [
    "#Определяет класс `DepartmentReport`.\n",
    "class DepartmentReport():\n",
    "       #Проверяет, существует ли атрибут `revenues`. Если нет, создает пустой список.\n",
    "    def add_revenue(self, amount):\n",
    "        if not hasattr(self,'revenues'):\n",
    "            self.revenues=[]\n",
    "            #Добавляет указанную сумму в список `revenues`.\n",
    "        self.revenues.append(amount)\n",
    "    #Рассчитывает среднюю выручку путем деления суммы всех выручек на их количество\n",
    "    def average_revenue(self):\n",
    "        return sum(self.revenues)/len(self.revenues)\n",
    "# Создает экземпляр класса `DepartmentReport`.\n",
    "report = DepartmentReport()  \n",
    "#Добавляет выручку в размере 1 000 000 в список `revenues`\n",
    "report.add_revenue(1_000_000)\n",
    "#Добавляет выручку в размере 400 000 в список `revenues`.\n",
    "report.add_revenue(400_000)\n",
    "#Выводит список всех выручек\n",
    "print(report.revenues)\n",
    "#Выводит среднюю выручку\n",
    "print(report.average_revenue())\n"
   ]
  },
  {
   "cell_type": "markdown",
   "metadata": {},
   "source": [
    "##### <center> Метод INIT"
   ]
  },
  {
   "cell_type": "markdown",
   "metadata": {},
   "source": [
    "Мы определили несколько методов в классе SalesReport. С ним есть пара проблем. \n",
    "\n",
    "Если мы вызовем total_amount до add_deal, то список сделок ещё не будет создан, и мы получим ошибку. Также проверка на наличие списка в методе add_deal не кажется оптимальным решением, потому что создать список нужно один раз, а проверять его наличие мы вынуждены на каждой сделке.\n"
   ]
  },
  {
   "cell_type": "code",
   "execution_count": 6,
   "metadata": {},
   "outputs": [],
   "source": [
    " #class SalesReport():  \n",
    "    #def add_deal(self, amount):   \n",
    "        #if not hasattr(self, 'deals'):  \n",
    "            #self.deals = []  \n",
    "        #self.deals.append(amount)  \n",
    "          \n",
    "    #def total_amount(self):  \n",
    "        #return sum(self.deals)  \n",
    "      \n",
    "    #def print_report(self):  \n",
    "        #print(\"Total sales:\", self.total_amount())  \n",
    "          \n",
    "#report = SalesReport()  \n",
    "#report.total_amount()  \n",
    "# => AttributeError"
   ]
  },
  {
   "cell_type": "markdown",
   "metadata": {},
   "source": [
    "Обе проблемы решились бы, если задавать атрибутам исходное значение. Для этого у классов есть метод инициализации __ init__. Если мы определим метод с таким именем, код в нём вызовется при создании объекта."
   ]
  },
  {
   "cell_type": "code",
   "execution_count": 7,
   "metadata": {},
   "outputs": [
    {
     "name": "stdout",
     "output_type": "stream",
     "text": [
      "[]\n"
     ]
    },
    {
     "data": {
      "text/plain": [
       "0"
      ]
     },
     "execution_count": 7,
     "metadata": {},
     "output_type": "execute_result"
    }
   ],
   "source": [
    "class SalesReport():  \n",
    "    def __init__(self):  \n",
    "        self.deals = []  \n",
    "          \n",
    "    def add_deal(self, amount):   \n",
    "        self.deals.append(amount)  \n",
    "          \n",
    "    def total_amount(self):  \n",
    "        return sum(self.deals)  \n",
    "      \n",
    "    def print_report(self):  \n",
    "        print(\"Total sales:\", self.total_amount())  \n",
    "   \n",
    "report = SalesReport()  \n",
    "print(report.deals)  \n",
    "# => []  \n",
    "report.total_amount()  \n",
    "# => 0  "
   ]
  },
  {
   "cell_type": "markdown",
   "metadata": {},
   "source": [
    "При создании отчёта вызвался __ init__, deals определился в нём пустым списком и проблемы ушли. "
   ]
  },
  {
   "cell_type": "markdown",
   "metadata": {},
   "source": [
    "_ init__ — это технический метод, поэтому его имя начинается и заканчивается двумя подчёркиваниями. Он получает первым аргументом сам объект, в нём могут выполняться любые операции. Оставшиеся аргументы он получает из вызова при создании: если мы напишем report = SalesReport(\"Info\", 20), то вторым и третьим аргументом в __init__ передадутся \"Info\" и 20."
   ]
  },
  {
   "cell_type": "code",
   "execution_count": 8,
   "metadata": {},
   "outputs": [
    {
     "name": "stdout",
     "output_type": "stream",
     "text": [
      "Manager: Ivan Taranov\n",
      "Total sales: 40000\n"
     ]
    }
   ],
   "source": [
    "class SalesReport():  \n",
    "    # Будем принимать в __init__ ещё и имя менеджера  \n",
    "    def __init__(self, manager_name):  \n",
    "        self.deals = []  \n",
    "        self.manager_name = manager_name  \n",
    "          \n",
    "    def add_deal(self, amount):   \n",
    "        self.deals.append(amount)  \n",
    "          \n",
    "    def total_amount(self):  \n",
    "        return sum(self.deals)  \n",
    "      \n",
    "    def print_report(self):  \n",
    "        # И добавлять это имя в отчёт  \n",
    "        print(\"Manager:\", self.manager_name)  \n",
    "        print(\"Total sales:\", self.total_amount())  \n",
    "          \n",
    "   \n",
    "report = SalesReport(\"Ivan Taranov\")  \n",
    "report.add_deal(10_000)  \n",
    "report.add_deal(30_000)  \n",
    "report.print_report()  \n",
    "# =>   \n",
    "# Manager: Ivan Taranov  \n",
    "# Total sales: 40000"
   ]
  },
  {
   "cell_type": "markdown",
   "metadata": {},
   "source": [
    "#### Задание 4.2 "
   ]
  },
  {
   "cell_type": "markdown",
   "metadata": {},
   "source": [
    "Улучшите класс DepartmentReport, добавив в него инициализатор.\n",
    "\n",
    "Класс при инициализации должен принимать переменную company_name и инициализировать её значением свойство company, а также инициализировать свойство revenues пустым списком.\n",
    "\n",
    "Также модифицируйте метод average_revenue. Теперь он должен возвращать строку следующего вида \"Average department revenue for <company_name>: <average_revenue>\"."
   ]
  },
  {
   "cell_type": "code",
   "execution_count": 9,
   "metadata": {},
   "outputs": [
    {
     "name": "stdout",
     "output_type": "stream",
     "text": [
      "[1000000, 400000]\n",
      "Average department revenue for IBM: 700000\n"
     ]
    }
   ],
   "source": [
    "class DepartmentReport():\n",
    "    def __init__(self, company_name):\n",
    "        self.revenues=[]\n",
    "        self.company=company_name\n",
    "\n",
    "    def add_revenue(self, amount):\n",
    "        if not hasattr(self, 'revenues'):\n",
    "            self.revenues=[]\n",
    "        self.revenues.append(amount)\n",
    "\n",
    "    def average_revenue(self):\n",
    "        average=int(round(sum(self.revenues)/len(self.revenues),0))\n",
    "        return 'Average department revenue for {}: {}'.format(self.company,average)\n",
    "report = DepartmentReport ('IBM')  \n",
    "report.add_revenue(1_000_000)\n",
    "#Добавляет выручку в размере 400 000 в список `revenues`.\n",
    "report.add_revenue(400_000)\n",
    "#Выводит список всех выручек\n",
    "print(report.revenues)\n",
    "#Выводит среднюю выручку\n",
    "print(report.average_revenue())  "
   ]
  },
  {
   "cell_type": "markdown",
   "metadata": {},
   "source": [
    "**Построчный комментарий:**\n",
    "\n",
    "```python\n",
    "class DepartmentReport():  # Класс для создания отчетов по доходам департаментов\n",
    "    def __init__(self, company_name):  # Конструктор, который принимает название компании\n",
    "        self.revenues=[]  # Создает список для хранения доходов\n",
    "        self.company=company_name  # Назначает название компании\n",
    "\n",
    "    def add_revenue(self, amount):  # Метод для добавления дохода\n",
    "        if not hasattr(self, 'revenues'):  # Если список доходов еще не создан\n",
    "            self.revenues=[]  # Создает его\n",
    "        self.revenues.append(amount)  # Добавляет доход в список\n",
    "\n",
    "    def average_revenue(self):  # Метод для получения среднего дохода\n",
    "        average=int(round(sum(self.revenues)/len(self.revenues),0))  # Вычисляет средний доход\n",
    "        return 'Average department revenue for {}: {}'.format(self.company,average)  # Возвращает средний доход в строке\n",
    "```\n",
    "\n",
    "**Использование класса:**\n",
    "\n",
    "```python\n",
    "report = DepartmentReport ('IBM')    # Создает отчет для IBM\n",
    "report.add_revenue(1_000_000)  # Добавляет доход в размере 1 000 000\n",
    "report.add_revenue(400_000)  # Добавляет доход в размере 400 000\n",
    "print(report.revenues)  # Печатает список доходов\n",
    "print(report.average_revenue())  # Печатает строку со средним доходом\n",
    "```"
   ]
  },
  {
   "cell_type": "markdown",
   "metadata": {},
   "source": [
    "#### <center> Краткое резюме"
   ]
  },
  {
   "cell_type": "markdown",
   "metadata": {},
   "source": [
    "✔️ Мы рассмотрели базовый синтаксис классов и синтаксис создания объектов. Давайте вспомним некоторые важные моменты:\n",
    "\n",
    "атрибут объекта — это просто его переменная;    \n",
    "метод объекта — это его функция;    \n",
    "метод объекта автоматически получает первым аргументом сам объект под именем self;  \n",
    "класс описывает объект через его атрибуты и методы; \n",
    "мы можем создавать множество экземпляров одного класса, и значения их атрибутов независимы друг от друга;   \n",
    "если определить метод __init__, то он будет выполняться при создании объекта;   \n",
    "всё это позволяет компактно увязывать данные и логику внутри объекта.   \n",
    "\n",
    "Чтобы продемонстрировать, что мы имеем в виду под компактностью, давайте добавим ещё метрик в отчёт.    \n",
    "\n",
    "Допустим, теперь мы хотим получать средний размер сделки и список клиентов, из которого исключены повторения (в случае, если компания заключала несколько сделок с одним и тем же клиентом)."
   ]
  },
  {
   "cell_type": "code",
   "execution_count": 10,
   "metadata": {},
   "outputs": [
    {
     "name": "stdout",
     "output_type": "stream",
     "text": [
      "Employee:  Ivan Semenov\n",
      "Total sales: 390000\n",
      "Average sales: 130000.0\n",
      "Companies: ['PepsiCo', 'SkyEng']\n"
     ]
    }
   ],
   "source": [
    "class SalesReport():  \n",
    "    def __init__(self, employee_name):  \n",
    "        self.deals = []  \n",
    "        self.employee_name = employee_name  \n",
    "      \n",
    "    def add_deal(self, company, amount):   \n",
    "        self.deals.append({'company': company, 'amount': amount})  \n",
    "          \n",
    "    def total_amount(self):  \n",
    "        return sum([deal['amount'] for deal in self.deals])  \n",
    "      \n",
    "    def average_deal(self):  \n",
    "        return self.total_amount()/len(self.deals)  \n",
    "      \n",
    "    def all_companies(self):  \n",
    "        return list(set([deal['company'] for deal in self.deals]))  \n",
    "      \n",
    "    def print_report(self):  \n",
    "        print(\"Employee: \", self.employee_name)  \n",
    "        print(\"Total sales:\", self.total_amount())  \n",
    "        print(\"Average sales:\", self.average_deal())  \n",
    "        print(\"Companies:\", self.all_companies())  \n",
    "      \n",
    "      \n",
    "report = SalesReport(\"Ivan Semenov\")  \n",
    "  \n",
    "report.add_deal(\"PepsiCo\", 120_000)  \n",
    "report.add_deal(\"SkyEng\", 250_000)  \n",
    "report.add_deal(\"PepsiCo\", 20_000)  \n",
    "  \n",
    "report.print_report()  \n",
    "# => Employee:  Ivan Semenov  \n",
    "# Total sales: 390000  \n",
    "# Average sales: 130000.0  \n",
    "# Companies: ['PepsiCo', 'SkyEng'] "
   ]
  },
  {
   "cell_type": "markdown",
   "metadata": {},
   "source": [
    "**Класс `SalesReport`:**\n",
    "\n",
    "* Это определяемый пользователем класс, который представляет собой отчет о продажах с полями для имени сотрудника и списка сделок.\n",
    "* Конструктор `__init__` инициализирует поля `deals` и `employee_name`.\n",
    "\n",
    "**Методы класса `SalesReport`:**\n",
    "\n",
    "* `add_deal`: Добавляет сделку в список `deals` в виде словаря с ключами `company` и `amount`.\n",
    "* `total_amount`: Возвращает общую сумму всех сделок.\n",
    "* `average_deal`: Возвращает среднюю сумму сделок.\n",
    "* `all_companies`: Возвращает список уникальных названий компаний, с которыми были совершены сделки.\n",
    "* `print_report`: Распечатывает отчет с именем сотрудника, общей суммой продаж, средней суммой сделок и списком компаний.\n",
    "\n",
    "**Код вне класса `SalesReport`:**\n",
    "\n",
    "* Создается экземпляр класса `SalesReport` с именем сотрудника \"Иван Семенов\" и присваивается переменной `report`.\n",
    "* Добавляются три сделки в отчет с использованием метода `add_deal`.\n",
    "* Вызывается метод `print_report` для вывода отчета в консоль."
   ]
  },
  {
   "cell_type": "markdown",
   "metadata": {},
   "source": [
    "Мы расширили отчёт, но внешний код использования классов не увеличился. Отчёт, который мы вывели, достаточно простой, но можно автоматически генерировать презентацию с данными и графиками в PDF, при этом внешний интерфейс не менялся бы. Мы просто передаём данные на вход и на выходе получаем отчёт."
   ]
  }
 ],
 "metadata": {
  "kernelspec": {
   "display_name": "Python 3",
   "language": "python",
   "name": "python3"
  },
  "language_info": {
   "codemirror_mode": {
    "name": "ipython",
    "version": 3
   },
   "file_extension": ".py",
   "mimetype": "text/x-python",
   "name": "python",
   "nbconvert_exporter": "python",
   "pygments_lexer": "ipython3",
   "version": "3.9.10"
  }
 },
 "nbformat": 4,
 "nbformat_minor": 2
}
