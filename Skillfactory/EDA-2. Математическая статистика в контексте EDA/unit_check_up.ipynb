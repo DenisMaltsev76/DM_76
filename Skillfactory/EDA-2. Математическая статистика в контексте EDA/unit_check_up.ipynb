{
 "cells": [
  {
   "cell_type": "code",
   "execution_count": 1,
   "metadata": {},
   "outputs": [],
   "source": [
    "import pandas as pd"
   ]
  },
  {
   "cell_type": "code",
   "execution_count": 2,
   "metadata": {},
   "outputs": [],
   "source": [
    "data = pd.read_csv('wine_cleared.csv')"
   ]
  },
  {
   "cell_type": "code",
   "execution_count": 3,
   "metadata": {},
   "outputs": [
    {
     "name": "stdout",
     "output_type": "stream",
     "text": [
      "Наименьшее значение в столбце 'points': 80\n"
     ]
    }
   ],
   "source": [
    "# Найти наименьшее значение в столбце \"points\"\n",
    "min_value = data['points'].min()\n",
    "print(\"Наименьшее значение в столбце 'points':\", min_value)"
   ]
  },
  {
   "cell_type": "code",
   "execution_count": 4,
   "metadata": {},
   "outputs": [
    {
     "name": "stdout",
     "output_type": "stream",
     "text": [
      "Наименьшее значение в столбце 'price': 4.0\n"
     ]
    }
   ],
   "source": [
    "# Найти наименьшее значение в столбце \"price\"\n",
    "min_value = data['price'].min()\n",
    "print(\"Наименьшее значение в столбце 'price':\", min_value)"
   ]
  },
  {
   "cell_type": "code",
   "execution_count": 5,
   "metadata": {},
   "outputs": [],
   "source": [
    "import statistics"
   ]
  },
  {
   "cell_type": "code",
   "execution_count": 6,
   "metadata": {},
   "outputs": [
    {
     "name": "stdout",
     "output_type": "stream",
     "text": [
      "Средняя стоимость бутылки вина: 35.363389129985535\n"
     ]
    }
   ],
   "source": [
    "# Извлечь столбец \"price\" в список\n",
    "prices = data['price'].tolist()\n",
    "\n",
    "# Вычислить среднюю стоимость бутылки вина\n",
    "mean_price = statistics.mean(prices)\n",
    "\n",
    "# Вывести результат\n",
    "print(\"Средняя стоимость бутылки вина:\", mean_price)"
   ]
  },
  {
   "cell_type": "code",
   "execution_count": 7,
   "metadata": {},
   "outputs": [
    {
     "name": "stdout",
     "output_type": "stream",
     "text": [
      "Средняя стоимость бутылки вина: 35.363389129985535\n"
     ]
    }
   ],
   "source": [
    "# Вычислить сумму всех значений в столбце \"price\"\n",
    "total_price = data['price'].sum()\n",
    "\n",
    "# Вычислить количество элементов в столбце \"price\"\n",
    "num_elements = len(data['price'])\n",
    "\n",
    "# Вычислить среднюю стоимость бутылки вина\n",
    "mean_price = total_price / num_elements\n",
    "\n",
    "# Вывести результат\n",
    "print(\"Средняя стоимость бутылки вина:\", mean_price)"
   ]
  },
  {
   "cell_type": "code",
   "execution_count": 8,
   "metadata": {},
   "outputs": [
    {
     "name": "stdout",
     "output_type": "stream",
     "text": [
      "Медиана стоимости бутылки вина: 28.0\n"
     ]
    }
   ],
   "source": [
    "# Извлечь столбец \"price\" в список\n",
    "prices = data['price'].tolist()\n",
    "\n",
    "# Вычислить медиану стоимости бутылки вина\n",
    "median_price = statistics.median(prices)\n",
    "\n",
    "# Округлить значение до сотых\n",
    "rounded_median_price = round(median_price, 2)\n",
    "\n",
    "# Вывести результат\n",
    "print(\"Медиана стоимости бутылки вина:\", rounded_median_price)"
   ]
  },
  {
   "cell_type": "code",
   "execution_count": 9,
   "metadata": {},
   "outputs": [
    {
     "name": "stdout",
     "output_type": "stream",
     "text": [
      "Медиана стоимости бутылки вина: 28.0\n"
     ]
    }
   ],
   "source": [
    "# Получить столбец \"price\" как объект Series\n",
    "price_column = data['price']\n",
    "\n",
    "# Отсортировать столбец \"price\" по возрастанию\n",
    "sorted_prices = sorted(price_column)\n",
    "\n",
    "# Вычислить медиану стоимости бутылки вина\n",
    "num_elements = len(sorted_prices)\n",
    "middle_index = num_elements // 2\n",
    "\n",
    "if num_elements % 2 == 0:\n",
    "    median_price = (sorted_prices[middle_index - 1] + sorted_prices[middle_index]) / 2\n",
    "else:\n",
    "    median_price = sorted_prices[middle_index]\n",
    "\n",
    "# Вывести результат\n",
    "print(\"Медиана стоимости бутылки вина:\", median_price)"
   ]
  },
  {
   "cell_type": "code",
   "execution_count": 10,
   "metadata": {},
   "outputs": [
    {
     "name": "stdout",
     "output_type": "stream",
     "text": [
      "Мода стоимости бутылки вина: 35.36\n"
     ]
    }
   ],
   "source": [
    "# Извлечь столбец \"price\" в список\n",
    "prices = data['price'].tolist()\n",
    "\n",
    "# Вычислить моду стоимости бутылки вина\n",
    "mode_price = statistics.mode(prices)\n",
    "\n",
    "# Округлить значение до сотых\n",
    "rounded_mode_price = round(mode_price, 2)\n",
    "\n",
    "# Вывести результат\n",
    "print(\"Мода стоимости бутылки вина:\", rounded_mode_price)"
   ]
  },
  {
   "cell_type": "code",
   "execution_count": 11,
   "metadata": {},
   "outputs": [
    {
     "name": "stdout",
     "output_type": "stream",
     "text": [
      "Мода стоимости бутылки вина: 35.363389129985535\n"
     ]
    }
   ],
   "source": [
    "# Вычислить моду стоимости бутылки вина\n",
    "mode_price = data['price'].mode()[0]\n",
    "\n",
    "# Вывести результат\n",
    "print(\"Мода стоимости бутылки вина:\", mode_price)"
   ]
  }
 ],
 "metadata": {
  "kernelspec": {
   "display_name": "Python 3",
   "language": "python",
   "name": "python3"
  },
  "language_info": {
   "codemirror_mode": {
    "name": "ipython",
    "version": 3
   },
   "file_extension": ".py",
   "mimetype": "text/x-python",
   "name": "python",
   "nbconvert_exporter": "python",
   "pygments_lexer": "ipython3",
   "version": "3.9.10"
  },
  "orig_nbformat": 4
 },
 "nbformat": 4,
 "nbformat_minor": 2
}
