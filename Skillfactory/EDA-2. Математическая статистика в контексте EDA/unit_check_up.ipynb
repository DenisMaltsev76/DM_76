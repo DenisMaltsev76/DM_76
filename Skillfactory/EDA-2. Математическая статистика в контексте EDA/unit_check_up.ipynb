{
 "cells": [
  {
   "cell_type": "code",
   "execution_count": 1,
   "metadata": {},
   "outputs": [],
   "source": [
    "import pandas as pd"
   ]
  },
  {
   "cell_type": "code",
   "execution_count": 2,
   "metadata": {},
   "outputs": [],
   "source": [
    "data = pd.read_csv('wine_cleared.csv')"
   ]
  },
  {
   "cell_type": "code",
   "execution_count": 3,
   "metadata": {},
   "outputs": [
    {
     "name": "stdout",
     "output_type": "stream",
     "text": [
      "Наименьшее значение в столбце 'points': 80\n"
     ]
    }
   ],
   "source": [
    "# Найти наименьшее значение в столбце \"points\"\n",
    "min_value = data['points'].min()\n",
    "print(\"Наименьшее значение в столбце 'points':\", min_value)"
   ]
  },
  {
   "cell_type": "code",
   "execution_count": 4,
   "metadata": {},
   "outputs": [
    {
     "name": "stdout",
     "output_type": "stream",
     "text": [
      "Наименьшее значение в столбце 'price': 4.0\n"
     ]
    }
   ],
   "source": [
    "# Найти наименьшее значение в столбце \"price\"\n",
    "min_value = data['price'].min()\n",
    "print(\"Наименьшее значение в столбце 'price':\", min_value)"
   ]
  }
 ],
 "metadata": {
  "kernelspec": {
   "display_name": "Python 3",
   "language": "python",
   "name": "python3"
  },
  "language_info": {
   "codemirror_mode": {
    "name": "ipython",
    "version": 3
   },
   "file_extension": ".py",
   "mimetype": "text/x-python",
   "name": "python",
   "nbconvert_exporter": "python",
   "pygments_lexer": "ipython3",
   "version": "3.9.10"
  },
  "orig_nbformat": 4
 },
 "nbformat": 4,
 "nbformat_minor": 2
}
