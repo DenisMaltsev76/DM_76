{
 "cells": [
  {
   "cell_type": "code",
   "execution_count": 4,
   "metadata": {},
   "outputs": [
    {
     "name": "stdout",
     "output_type": "stream",
     "text": [
      "Before exception\n",
      "After exception\n",
      "Finally finished!\n",
      "After After exception\n"
     ]
    }
   ],
   "source": [
    "# Добавляем конструкцию try-except для отлова нашей ошибки\n",
    "try:\n",
    "    print(\"Before exception\") # Перед исключением\n",
    "    # Теперь пользователь сам вводит числа для деления\n",
    "    a = int(input(\"a: \"))\n",
    "    b = int(input(\"b: \"))\n",
    "    c = a / b\n",
    "    # Печатаем c = a / b, если всё хорошо\n",
    "    print(c) \n",
    "# Добавляем тип именно той ошибки которую хотим отловить. \n",
    "except ZeroDivisionError as e:\n",
    "    print(\"After exception\") # После исключения\n",
    "# код в блоке else выполняется только в том случае, если код в блоке try выполнился успешно (т. е. не произошло никакого исключения)\n",
    "else: \n",
    "    print(\"Everything's fine!\")# Всё отлично!\n",
    "# код в блоке finally выполнится в любом случае при выходе из try-except \n",
    "finally: \n",
    "    print(\"Finally finished!\") # Наконец-то завершено!\n",
    " \n",
    "print(\"After After exception\") # После после исключения"
   ]
  },
  {
   "cell_type": "markdown",
   "metadata": {},
   "source": [
    "То есть код в блоке else не выполнится, так как было исключение, а код в блоке finally выполнится в обоих случаях."
   ]
  },
  {
   "cell_type": "markdown",
   "metadata": {},
   "source": [
    "Задача №1"
   ]
  },
  {
   "cell_type": "markdown",
   "metadata": {},
   "source": [
    "Пусть у нас есть некоторый список images_db, в нём хранятся идентификаторы изображений, которые мы отдаём пользователю. Пользователь вводит номер (индекс) элемента, который он хочет получить, а мы выводим на экран сам элемент. Индекс, который ввёл пользователь, находится в переменной index.\n",
    "\n",
    "Есть вероятность, что в переменной index содержится такое число, что при обращении к списку возникнет ошибка выхода за его пределы. Например, если значение переменной index будет равно 10, а длина списка будет равна 3, мы увидим на экране следующее:\n",
    "\n",
    "IndexError: list index out of range\n",
    "\n",
    "Необходимо организовать обработку этого исключения, чтобы программа не завершала свою работу.\n",
    "\n",
    "Решение:\n",
    "\n",
    "Так как при выходе за пределы списка возникает исключение IndexError, давайте завернём код в конструкцию try-except.\n",
    "\n",
    "В блоке try будет находиться «проблемный» код — строка с обращением к списку по индексу.\n",
    "\n",
    "В блоке except организуем обработку исключения таким образом, что, если пользователь вводит индекс, при обращении по которому мы выходим за пределы списка, в качестве id изображения выводится последний идентификатор из списка.\n",
    "\n",
    "Код будет выглядеть следующим образом:"
   ]
  },
  {
   "cell_type": "code",
   "execution_count": 8,
   "metadata": {},
   "outputs": [
    {
     "name": "stdout",
     "output_type": "stream",
     "text": [
      "Image id: 215251\n"
     ]
    }
   ],
   "source": [
    "index = 4\n",
    "images_db = [101252, 521929, 215251]\n",
    "try:\n",
    "    img_id = images_db[index]\n",
    "except:\n",
    "    img_id = images_db[-1]\n",
    "print(f'Image id: {img_id}')"
   ]
  },
  {
   "cell_type": "markdown",
   "metadata": {},
   "source": [
    "Задача №2"
   ]
  },
  {
   "cell_type": "markdown",
   "metadata": {},
   "source": [
    "Часто перед разработчиком стоит задача защитить свою программу от «падения». Перед нами следующий код:\n",
    "my_dict = {'a': 10, 'b': '5.214', 'c': 'simple_string'}\n",
    "\n",
    "value_1 = my_dict[key_1]\n",
    "value_2 = my_dict[key_2]\n",
    "value_1, value_2 = float(value_1), float(value_2)\n",
    "new_value = value_1 + value_2\n",
    "\n",
    "Рассмотрим ошибки по порядку.\n",
    "\n",
    "1. Начнём с обращения по ключам. Если мы попытаемся обратиться к словарю по ключу, которого не существует, получим ошибку KeyError.\n",
    "2. Следующая проблема — попытка преобразования значений value_1 и value_2 к типу данных float. Попытка привести один тип данных к другому может обернуться ошибкой ValueError.\n",
    "\n",
    "Обезопасим нашу программу от таких ошибок. Для этого достаточно добавить ещё один блок except. В этом блоке укажем, что хотим отловить ошибку KeyError и ValueError."
   ]
  },
  {
   "cell_type": "code",
   "execution_count": 26,
   "metadata": {},
   "outputs": [
    {
     "name": "stdout",
     "output_type": "stream",
     "text": [
      "Неверное преобразование типов\n",
      "13.0\n"
     ]
    }
   ],
   "source": [
    "my_dict = {'a': 10, 'b': '5.214', 'c': '3', 'd': 'simple_string'}\n",
    "key_1, key_2 = 'a', 'd'\n",
    "try:\n",
    "    value_1 = my_dict[key_1]\n",
    "    value_2 = my_dict[key_2]\n",
    "    value_1, value_2 = float(value_1), float(value_2)\n",
    "    new_value = value_1 + value_2\n",
    "except KeyError:\n",
    "    print('Введен неверный ключ')\n",
    "except ValueError:\n",
    "    print('Неверное преобразование типов')\n",
    "print(new_value)"
   ]
  },
  {
   "cell_type": "markdown",
   "metadata": {},
   "source": [
    "А как ещё можно?\n",
    "\n",
    "Можно отлавливать не конкретный тип ошибки, а все виды исключений, которые могут возникнуть в коде. Для этого вместо конкретного типа ошибки нужно указать Exception. Код будет выглядеть следующим образом:\n",
    "\n",
    "Исключение Exception — это специальный тип исключения, который является родительским для всех видов исключений. Блок except отлавливает исключения в порядке их наследования — от родительского до дочерних. Подробнее мы поговорим о наследовании исключений в модуле по объектно-ориентированному программированию."
   ]
  },
  {
   "cell_type": "code",
   "execution_count": 29,
   "metadata": {},
   "outputs": [
    {
     "name": "stdout",
     "output_type": "stream",
     "text": [
      "Код завершился с ошибкой: could not convert string to float: 'simple_string'\n",
      "15.214\n"
     ]
    }
   ],
   "source": [
    "my_dict = {'a': 10, 'b': '5.214', 'c': '3', 'd': 'simple_string'}\n",
    "key_1, key_2 = 'a', 'd'\n",
    "try:\n",
    "    value_1 = my_dict[key_1]\n",
    "    value_2 = my_dict[key_2]\n",
    "    value_1, value_2 = float(value_1), float(value_2)\n",
    "    new_value = value_1 + value_2\n",
    "except Exception as e:\n",
    "    print('Код завершился с ошибкой: {}'.format(e))\n",
    "print(new_value)"
   ]
  }
 ],
 "metadata": {
  "kernelspec": {
   "display_name": "Python 3",
   "language": "python",
   "name": "python3"
  },
  "language_info": {
   "codemirror_mode": {
    "name": "ipython",
    "version": 3
   },
   "file_extension": ".py",
   "mimetype": "text/x-python",
   "name": "python",
   "nbconvert_exporter": "python",
   "pygments_lexer": "ipython3",
   "version": "3.9.10"
  }
 },
 "nbformat": 4,
 "nbformat_minor": 2
}
